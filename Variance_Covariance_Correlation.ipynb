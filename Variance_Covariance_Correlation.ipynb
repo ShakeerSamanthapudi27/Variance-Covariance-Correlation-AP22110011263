{
  "nbformat": 4,
  "nbformat_minor": 0,
  "metadata": {
    "colab": {
      "provenance": []
    },
    "kernelspec": {
      "name": "python3",
      "display_name": "Python 3"
    },
    "language_info": {
      "name": "python"
    }
  },
  "cells": [
    {
      "cell_type": "markdown",
      "source": [
        "**Create a vector (array) of 1XN dimension representing N-\n",
        "dimensional feature vector of a sample. Write a program to\n",
        "compute the mean and variance of the elements present in the\n",
        "array.**"
      ],
      "metadata": {
        "id": "uvQOpZxaBz6q"
      }
    },
    {
      "cell_type": "code",
      "execution_count": 1,
      "metadata": {
        "colab": {
          "base_uri": "https://localhost:8080/"
        },
        "id": "RDp4W1nUBq-Y",
        "outputId": "0f5ed0f1-2495-4d79-90a6-f936a59e516a"
      },
      "outputs": [
        {
          "output_type": "stream",
          "name": "stdout",
          "text": [
            "10\n",
            "[ 7  6 10  1  3  1 10  9  3  1]\n"
          ]
        },
        {
          "output_type": "stream",
          "name": "stderr",
          "text": [
            "<ipython-input-1-0e8ecd011eae>:3: DeprecationWarning: This function is deprecated. Please call randint(1, 10 + 1) instead\n",
            "  sample_x = np.random.random_integers(1,10,size=n)\n"
          ]
        }
      ],
      "source": [
        "import numpy as np\n",
        "n = int(input())\n",
        "sample_x = np.random.random_integers(1,10,size=n)\n",
        "print(sample_x)"
      ]
    },
    {
      "cell_type": "markdown",
      "source": [
        "**Sample Variance**"
      ],
      "metadata": {
        "id": "e1DcqIvsDkk6"
      }
    },
    {
      "cell_type": "code",
      "source": [
        "sum = 0\n",
        "for i in range(n):\n",
        "  sum = sum + (sample_x[i]- np.mean(sample_x))**2\n",
        "print(sum/n-1)"
      ],
      "metadata": {
        "id": "9qaEj1c4CRsE",
        "colab": {
          "base_uri": "https://localhost:8080/"
        },
        "outputId": "c9809619-b9a1-43f5-c4ae-3b730504b848"
      },
      "execution_count": 2,
      "outputs": [
        {
          "output_type": "stream",
          "name": "stdout",
          "text": [
            "11.690000000000001\n"
          ]
        }
      ]
    },
    {
      "cell_type": "markdown",
      "source": [
        "**Population Variance**"
      ],
      "metadata": {
        "id": "auBG-fmTEj3Y"
      }
    },
    {
      "cell_type": "code",
      "source": [
        "sum = 0\n",
        "for i in range(n):\n",
        "  sum = sum + (sample_x[i]- np.mean(sample_x))**2\n",
        "print(sum/n)"
      ],
      "metadata": {
        "colab": {
          "base_uri": "https://localhost:8080/"
        },
        "id": "JPiPk-o6DmdD",
        "outputId": "12c0cd8b-5588-4ee9-cdde-64321e1eaf0b"
      },
      "execution_count": 3,
      "outputs": [
        {
          "output_type": "stream",
          "name": "stdout",
          "text": [
            "12.690000000000001\n"
          ]
        }
      ]
    },
    {
      "cell_type": "markdown",
      "source": [
        "**Create two vectors each of dimension 1XM each representing N-\n",
        "dimensional feature vector of a sample. Write a program to\n",
        "compute the Covariance between them.**"
      ],
      "metadata": {
        "id": "I4gyanLhExxh"
      }
    },
    {
      "cell_type": "code",
      "source": [
        "n = int(input(\"Enter n\"))\n",
        "X = np.random.random_integers(1,20,n)\n",
        "Y = np.random.random_integers(7,10,n)\n",
        "print(X)\n",
        "print(Y)\n",
        "cov = np.sum((X - np.mean(X))*(Y-np.mean(Y)))\n",
        "cov = (cov)/n-1\n",
        "print(cov)"
      ],
      "metadata": {
        "id": "6GL1nM6MEpGE",
        "colab": {
          "base_uri": "https://localhost:8080/"
        },
        "outputId": "e9396799-e1ae-4dd3-b669-98e352facb55"
      },
      "execution_count": 12,
      "outputs": [
        {
          "output_type": "stream",
          "name": "stdout",
          "text": [
            "Enter n10\n",
            "[ 1  3  8 12 14 13 16  8  7  2]\n",
            "[10  9  9  7 10 10  9 10  7  7]\n",
            "0.07999999999999963\n"
          ]
        },
        {
          "output_type": "stream",
          "name": "stderr",
          "text": [
            "<ipython-input-12-428a950d9ca6>:2: DeprecationWarning: This function is deprecated. Please call randint(1, 20 + 1) instead\n",
            "  X = np.random.random_integers(1,20,n)\n",
            "<ipython-input-12-428a950d9ca6>:3: DeprecationWarning: This function is deprecated. Please call randint(7, 10 + 1) instead\n",
            "  Y = np.random.random_integers(7,10,n)\n"
          ]
        }
      ]
    },
    {
      "cell_type": "markdown",
      "source": [
        "**Create two vectors each of dimension 1XN. Write a program to\n",
        "compute the Correlation between them.**"
      ],
      "metadata": {
        "id": "yIc4BbvPIKM9"
      }
    },
    {
      "cell_type": "code",
      "source": [
        "n = int(input(\"Enter n\"))\n",
        "X = np.random.random_integers(1,20,n)\n",
        "Y = np.random.random_integers(7,10,n)\n",
        "print(X)\n",
        "print(Y)\n",
        "cov = np.sum((X - np.mean(X))*(Y-np.mean(Y)))\n",
        "cov = (cov)/n-1\n",
        "print(cov)"
      ],
      "metadata": {
        "colab": {
          "base_uri": "https://localhost:8080/"
        },
        "id": "BTHeOl0k-D3t",
        "outputId": "ba429a82-5760-46e8-cf15-ec2a62038b18"
      },
      "execution_count": 13,
      "outputs": [
        {
          "output_type": "stream",
          "name": "stdout",
          "text": [
            "Enter n10\n",
            "[20  9  9  1  1 17  2 14  2 16]\n",
            "[ 8  7 10 10  8  8  9  9 10  9]\n",
            "-3.5799999999999996\n"
          ]
        },
        {
          "output_type": "stream",
          "name": "stderr",
          "text": [
            "<ipython-input-13-428a950d9ca6>:2: DeprecationWarning: This function is deprecated. Please call randint(1, 20 + 1) instead\n",
            "  X = np.random.random_integers(1,20,n)\n",
            "<ipython-input-13-428a950d9ca6>:3: DeprecationWarning: This function is deprecated. Please call randint(7, 10 + 1) instead\n",
            "  Y = np.random.random_integers(7,10,n)\n"
          ]
        }
      ]
    },
    {
      "cell_type": "markdown",
      "source": [
        "**Create a Matrix of MXN dimension representing the M-dimensional\n",
        "feature vector for N number of samples i. e (i,j)th entry of the matrix\n",
        "represents the ith feature of jth sample. Write a program to compute\n",
        "the covariance matrix and correlation matrix.**"
      ],
      "metadata": {
        "id": "3l_cdZgmIgiR"
      }
    },
    {
      "cell_type": "code",
      "source": [
        "m = int(input())\n",
        "n = int(input())\n",
        "matrix = np.random.rand(m,n)\n",
        "print(\"Matrix\")\n",
        "print(matrix)\n",
        "print(\"Covariance Matrix\")\n",
        "cov = np.cov(matrix,bias=False)\n",
        "print(cov)\n",
        "print(\"Correlation Matrix\")\n",
        "corr = np.corrcoef(matrix)\n",
        "print(corr)"
      ],
      "metadata": {
        "colab": {
          "base_uri": "https://localhost:8080/"
        },
        "id": "0YOhXTSVIZZx",
        "outputId": "bd2a817f-6041-4fd0-84d5-87a400b231bb"
      },
      "execution_count": 18,
      "outputs": [
        {
          "output_type": "stream",
          "name": "stdout",
          "text": [
            "3\n",
            "5\n",
            "Matrix\n",
            "[[0.33767627 0.84860322 0.03096532 0.45651923 0.17078886]\n",
            " [0.71655271 0.13461718 0.96926888 0.1032955  0.97011038]\n",
            " [0.80602509 0.03058643 0.31391539 0.70218265 0.68997347]]\n",
            "Covariance Matrix\n",
            "[[ 0.09805377 -0.11712908 -0.04794281]\n",
            " [-0.11712908  0.18699212  0.03905054]\n",
            " [-0.04794281  0.03905054  0.10630783]]\n",
            "Correlation Matrix\n",
            "[[ 1.         -0.86500963 -0.46957901]\n",
            " [-0.86500963  1.          0.27696999]\n",
            " [-0.46957901  0.27696999  1.        ]]\n"
          ]
        }
      ]
    },
    {
      "cell_type": "code",
      "source": [],
      "metadata": {
        "id": "PbYCAMZ_JEdb"
      },
      "execution_count": null,
      "outputs": []
    }
  ]
}